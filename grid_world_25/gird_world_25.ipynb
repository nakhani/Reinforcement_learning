{
 "cells": [
  {
   "cell_type": "code",
   "execution_count": 1,
   "metadata": {},
   "outputs": [
    {
     "name": "stdout",
     "output_type": "stream",
     "text": [
      "(25, 4)\n"
     ]
    }
   ],
   "source": [
    "import numpy as np\n",
    "import copy\n",
    "\n",
    "a = [[0, 5, 1, 0],\n",
    "     [21, 21, 21, 21],\n",
    "     [2, 7, 3, 1],\n",
    "     [13, 13, 13, 13],\n",
    "     [4, 9, 4, 3],\n",
    "     [0, 10, 6, 5],\n",
    "     [1, 11, 7, 5],\n",
    "     [2, 12, 8, 6],\n",
    "     [3, 13, 9, 7],\n",
    "     [4, 14, 9, 8],\n",
    "     [5, 15, 11, 10],\n",
    "     [6, 16, 12, 10],\n",
    "     [7, 17, 13, 11],\n",
    "     [8, 18, 14, 12],\n",
    "     [9, 19, 14, 13],\n",
    "     [10, 20, 16,15],\n",
    "     [11, 21, 17, 15],\n",
    "     [12, 22, 18, 16],\n",
    "     [13, 23, 19, 17],\n",
    "     [14, 24, 19,18],\n",
    "     [15, 20, 21, 20],\n",
    "     [16, 21, 22, 20],\n",
    "     [17, 22, 23, 21],\n",
    "     [18, 23, 24, 22],\n",
    "     [19, 24, 24, 23]]\n",
    "\n",
    "x= np.array(a)\n",
    "print((x.shape))\n",
    "\n",
    "\n",
    "\n",
    "\n",
    "\n",
    "\n",
    "\n",
    "\n"
   ]
  },
  {
   "cell_type": "code",
   "execution_count": 6,
   "metadata": {},
   "outputs": [
    {
     "name": "stdout",
     "output_type": "stream",
     "text": [
      "[[ 3.3  8.8  4.4  5.3  1.5]\n",
      " [ 1.5  3.   2.3  1.9  0.6]\n",
      " [ 0.1  0.7  0.7  0.4 -0.4]\n",
      " [-1.  -0.4 -0.3 -0.6 -1.2]\n",
      " [-1.9 -1.3 -1.2 -1.4 -2. ]]\n"
     ]
    },
    {
     "name": "stderr",
     "output_type": "stream",
     "text": [
      "C:\\Users\\user\\AppData\\Local\\Temp\\ipykernel_14320\\2508589075.py:20: DeprecationWarning: `np.int` is a deprecated alias for the builtin `int`. To silence this warning, use `int` by itself. Doing this will not modify any behavior and is safe. When replacing `np.int`, you may wish to use e.g. `np.int64` or `np.int32` to specify the precision. If you wish to review your current use, check the release note link for additional information.\n",
      "Deprecated in NumPy 1.20; for more details and guidance: https://numpy.org/devdocs/release/1.20.0-notes.html#deprecations\n",
      "  policy = np.zeros((25,4),dtype=np.int)\n"
     ]
    }
   ],
   "source": [
    "def reward(s, s_p):\n",
    "     if s==s_p:\n",
    "        return -1\n",
    "     elif s== 1 and s_p == 21 :\n",
    "        return 10\n",
    "     elif s== 3 and s_p == 13 :\n",
    "        return 5 \n",
    "     else:\n",
    "        return 0 \n",
    "\n",
    "# def update():\n",
    "\n",
    "v = np.zeros((25,))\n",
    "gamma = 0.9\n",
    "delta = 0.001\n",
    "while True:\n",
    "    \n",
    "        v_temp = copy.copy(v)\n",
    "        for s in range(25):\n",
    "            n=[0, 0, 0, 0]\n",
    "            for a in range(4):\n",
    "                s_p= x[s][a]\n",
    "                r= reward(s,s_p)\n",
    "                n[a] = 0.25*(r+gamma*v_temp[s_p])\n",
    "            \n",
    "            v[s] = np.sum(n)\n",
    "            # print(v)\n",
    "      #   print((v-v_temp))\n",
    "      #   break\n",
    "        if (delta > np.abs(v- v_temp)).all():\n",
    "            break\n",
    "\n",
    "print(np.round(v,1).reshape(5,5))"
   ]
  }
 ],
 "metadata": {
  "kernelspec": {
   "display_name": "Python 3",
   "language": "python",
   "name": "python3"
  },
  "language_info": {
   "codemirror_mode": {
    "name": "ipython",
    "version": 3
   },
   "file_extension": ".py",
   "mimetype": "text/x-python",
   "name": "python",
   "nbconvert_exporter": "python",
   "pygments_lexer": "ipython3",
   "version": "3.8.10"
  },
  "orig_nbformat": 4,
  "vscode": {
   "interpreter": {
    "hash": "6a926afa313b26ae1264fdcf81c726a97e69f6ba2ba780f6aa901948710f8d6e"
   }
  }
 },
 "nbformat": 4,
 "nbformat_minor": 2
}
